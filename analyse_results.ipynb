{
 "cells": [
  {
   "cell_type": "markdown",
   "id": "e1842130",
   "metadata": {},
   "source": [
    "# Conduct a analysis of the performance\n"
   ]
  },
  {
   "cell_type": "code",
   "execution_count": 32,
   "id": "4840780d",
   "metadata": {},
   "outputs": [],
   "source": [
    "import pandas\n",
    "import duckdb\n",
    "import plotly.express as px\n",
    "import plotly.graph_objects as go"
   ]
  },
  {
   "cell_type": "markdown",
   "id": "478ef71a",
   "metadata": {},
   "source": [
    "# 1.Read & load the results from the databases crash test !"
   ]
  },
  {
   "cell_type": "code",
   "execution_count": 2,
   "id": "01d159c1",
   "metadata": {},
   "outputs": [
    {
     "data": {
      "text/plain": [
       "Index(['query', 'original_query', 'database_type', 'execution_time_ms',\n",
       "       'cpu_usage_percent', 'memory_usage_mb', 'memory_usage_percent',\n",
       "       'disk_read_mb', 'disk_write_mb', 'network_in_mb', 'network_out_mb',\n",
       "       'result_rows', 'result_size_mb', 'failed'],\n",
       "      dtype='object')"
      ]
     },
     "execution_count": 2,
     "metadata": {},
     "output_type": "execute_result"
    }
   ],
   "source": [
    "file_path = '/Users/macbook/Development/database_crash_test/benchmarker/database_benchmark_results.csv'\n",
    "results_df = pandas.read_csv(file_path)\n",
    "results_df.columns"
   ]
  },
  {
   "cell_type": "code",
   "execution_count": 3,
   "id": "c4354de6",
   "metadata": {},
   "outputs": [
    {
     "data": {
      "text/html": [
       "<div>\n",
       "<style scoped>\n",
       "    .dataframe tbody tr th:only-of-type {\n",
       "        vertical-align: middle;\n",
       "    }\n",
       "\n",
       "    .dataframe tbody tr th {\n",
       "        vertical-align: top;\n",
       "    }\n",
       "\n",
       "    .dataframe thead th {\n",
       "        text-align: right;\n",
       "    }\n",
       "</style>\n",
       "<table border=\"1\" class=\"dataframe\">\n",
       "  <thead>\n",
       "    <tr style=\"text-align: right;\">\n",
       "      <th></th>\n",
       "      <th>query</th>\n",
       "      <th>original_query</th>\n",
       "      <th>database_type</th>\n",
       "      <th>execution_time_ms</th>\n",
       "      <th>cpu_usage_percent</th>\n",
       "      <th>memory_usage_mb</th>\n",
       "      <th>memory_usage_percent</th>\n",
       "      <th>disk_read_mb</th>\n",
       "      <th>disk_write_mb</th>\n",
       "      <th>network_in_mb</th>\n",
       "      <th>network_out_mb</th>\n",
       "      <th>result_rows</th>\n",
       "      <th>result_size_mb</th>\n",
       "      <th>failed</th>\n",
       "    </tr>\n",
       "  </thead>\n",
       "  <tbody>\n",
       "    <tr>\n",
       "      <th>21</th>\n",
       "      <td>/* Power output changes */ SELECT d1.time, d1....</td>\n",
       "      <td>-- Power output changes\\nSELECT\\n    d1.time,\\...</td>\n",
       "      <td>ClickHouseHandler</td>\n",
       "      <td>62.819958</td>\n",
       "      <td>6.516528</td>\n",
       "      <td>838.320312</td>\n",
       "      <td>20.466805</td>\n",
       "      <td>0.0</td>\n",
       "      <td>0.0</td>\n",
       "      <td>0.002612</td>\n",
       "      <td>0.004488</td>\n",
       "      <td>0</td>\n",
       "      <td>0.0</td>\n",
       "      <td>True</td>\n",
       "    </tr>\n",
       "  </tbody>\n",
       "</table>\n",
       "</div>"
      ],
      "text/plain": [
       "                                                query  \\\n",
       "21  /* Power output changes */ SELECT d1.time, d1....   \n",
       "\n",
       "                                       original_query      database_type  \\\n",
       "21  -- Power output changes\\nSELECT\\n    d1.time,\\...  ClickHouseHandler   \n",
       "\n",
       "    execution_time_ms  cpu_usage_percent  memory_usage_mb  \\\n",
       "21          62.819958           6.516528       838.320312   \n",
       "\n",
       "    memory_usage_percent  disk_read_mb  disk_write_mb  network_in_mb  \\\n",
       "21             20.466805           0.0            0.0       0.002612   \n",
       "\n",
       "    network_out_mb  result_rows  result_size_mb  failed  \n",
       "21        0.004488            0             0.0    True  "
      ]
     },
     "execution_count": 3,
     "metadata": {},
     "output_type": "execute_result"
    }
   ],
   "source": [
    "# check if results return failed queries\n",
    "failed = results_df[results_df['failed'] == True]\n",
    "failed\n",
    "\n",
    "#print(failed['original_query'].values)"
   ]
  },
  {
   "cell_type": "code",
   "execution_count": 4,
   "id": "47237658",
   "metadata": {},
   "outputs": [
    {
     "name": "stdout",
     "output_type": "stream",
     "text": [
      "\n",
      "DataFrame Info:\n",
      "<class 'pandas.core.frame.DataFrame'>\n",
      "RangeIndex: 22 entries, 0 to 21\n",
      "Data columns (total 14 columns):\n",
      " #   Column                Non-Null Count  Dtype  \n",
      "---  ------                --------------  -----  \n",
      " 0   query                 22 non-null     object \n",
      " 1   original_query        22 non-null     object \n",
      " 2   database_type         22 non-null     object \n",
      " 3   execution_time_ms     22 non-null     float64\n",
      " 4   cpu_usage_percent     22 non-null     float64\n",
      " 5   memory_usage_mb       22 non-null     float64\n",
      " 6   memory_usage_percent  22 non-null     float64\n",
      " 7   disk_read_mb          22 non-null     float64\n",
      " 8   disk_write_mb         22 non-null     float64\n",
      " 9   network_in_mb         22 non-null     float64\n",
      " 10  network_out_mb        22 non-null     float64\n",
      " 11  result_rows           22 non-null     int64  \n",
      " 12  result_size_mb        22 non-null     float64\n",
      " 13  failed                22 non-null     bool   \n",
      "dtypes: bool(1), float64(9), int64(1), object(3)\n",
      "memory usage: 2.4+ KB\n"
     ]
    }
   ],
   "source": [
    "# Display initial data info\n",
    "print(\"\\nDataFrame Info:\")\n",
    "results_df.info()"
   ]
  },
  {
   "cell_type": "code",
   "execution_count": 5,
   "id": "3e072477",
   "metadata": {},
   "outputs": [
    {
     "name": "stdout",
     "output_type": "stream",
     "text": [
      "\n",
      "Descriptive Statistics:\n"
     ]
    },
    {
     "data": {
      "text/html": [
       "<div>\n",
       "<style scoped>\n",
       "    .dataframe tbody tr th:only-of-type {\n",
       "        vertical-align: middle;\n",
       "    }\n",
       "\n",
       "    .dataframe tbody tr th {\n",
       "        vertical-align: top;\n",
       "    }\n",
       "\n",
       "    .dataframe thead th {\n",
       "        text-align: right;\n",
       "    }\n",
       "</style>\n",
       "<table border=\"1\" class=\"dataframe\">\n",
       "  <thead>\n",
       "    <tr style=\"text-align: right;\">\n",
       "      <th></th>\n",
       "      <th>execution_time_ms</th>\n",
       "      <th>cpu_usage_percent</th>\n",
       "      <th>memory_usage_mb</th>\n",
       "      <th>memory_usage_percent</th>\n",
       "      <th>disk_read_mb</th>\n",
       "      <th>disk_write_mb</th>\n",
       "      <th>network_in_mb</th>\n",
       "      <th>network_out_mb</th>\n",
       "      <th>result_rows</th>\n",
       "      <th>result_size_mb</th>\n",
       "    </tr>\n",
       "  </thead>\n",
       "  <tbody>\n",
       "    <tr>\n",
       "      <th>count</th>\n",
       "      <td>22.000000</td>\n",
       "      <td>22.000000</td>\n",
       "      <td>22.000000</td>\n",
       "      <td>22.000000</td>\n",
       "      <td>22.0</td>\n",
       "      <td>22.0</td>\n",
       "      <td>22.000000</td>\n",
       "      <td>22.000000</td>\n",
       "      <td>22.000000</td>\n",
       "      <td>22.000000</td>\n",
       "    </tr>\n",
       "    <tr>\n",
       "      <th>mean</th>\n",
       "      <td>8853.203199</td>\n",
       "      <td>5.337268</td>\n",
       "      <td>430.088246</td>\n",
       "      <td>14.228960</td>\n",
       "      <td>0.0</td>\n",
       "      <td>0.0</td>\n",
       "      <td>0.001877</td>\n",
       "      <td>0.562511</td>\n",
       "      <td>39031.909091</td>\n",
       "      <td>1.120877</td>\n",
       "    </tr>\n",
       "    <tr>\n",
       "      <th>std</th>\n",
       "      <td>40422.731749</td>\n",
       "      <td>7.027358</td>\n",
       "      <td>339.466861</td>\n",
       "      <td>5.215464</td>\n",
       "      <td>0.0</td>\n",
       "      <td>0.0</td>\n",
       "      <td>0.002496</td>\n",
       "      <td>1.736492</td>\n",
       "      <td>70825.570142</td>\n",
       "      <td>1.949297</td>\n",
       "    </tr>\n",
       "    <tr>\n",
       "      <th>min</th>\n",
       "      <td>4.889727</td>\n",
       "      <td>0.001995</td>\n",
       "      <td>1.496094</td>\n",
       "      <td>0.146103</td>\n",
       "      <td>0.0</td>\n",
       "      <td>0.0</td>\n",
       "      <td>0.000000</td>\n",
       "      <td>0.000000</td>\n",
       "      <td>0.000000</td>\n",
       "      <td>0.000000</td>\n",
       "    </tr>\n",
       "    <tr>\n",
       "      <th>25%</th>\n",
       "      <td>15.210927</td>\n",
       "      <td>0.004409</td>\n",
       "      <td>128.863281</td>\n",
       "      <td>12.584305</td>\n",
       "      <td>0.0</td>\n",
       "      <td>0.0</td>\n",
       "      <td>0.000000</td>\n",
       "      <td>0.000000</td>\n",
       "      <td>1.000000</td>\n",
       "      <td>0.000149</td>\n",
       "    </tr>\n",
       "    <tr>\n",
       "      <th>50%</th>\n",
       "      <td>54.085851</td>\n",
       "      <td>2.233626</td>\n",
       "      <td>392.726562</td>\n",
       "      <td>14.307165</td>\n",
       "      <td>0.0</td>\n",
       "      <td>0.0</td>\n",
       "      <td>0.001216</td>\n",
       "      <td>0.002244</td>\n",
       "      <td>75.000000</td>\n",
       "      <td>0.005276</td>\n",
       "    </tr>\n",
       "    <tr>\n",
       "      <th>75%</th>\n",
       "      <td>179.286480</td>\n",
       "      <td>6.341376</td>\n",
       "      <td>744.400391</td>\n",
       "      <td>18.173838</td>\n",
       "      <td>0.0</td>\n",
       "      <td>0.0</td>\n",
       "      <td>0.002679</td>\n",
       "      <td>0.006711</td>\n",
       "      <td>8760.000000</td>\n",
       "      <td>0.601627</td>\n",
       "    </tr>\n",
       "    <tr>\n",
       "      <th>max</th>\n",
       "      <td>189821.106911</td>\n",
       "      <td>21.210513</td>\n",
       "      <td>860.394531</td>\n",
       "      <td>21.005726</td>\n",
       "      <td>0.0</td>\n",
       "      <td>0.0</td>\n",
       "      <td>0.008762</td>\n",
       "      <td>6.785174</td>\n",
       "      <td>166536.000000</td>\n",
       "      <td>5.082401</td>\n",
       "    </tr>\n",
       "  </tbody>\n",
       "</table>\n",
       "</div>"
      ],
      "text/plain": [
       "       execution_time_ms  cpu_usage_percent  memory_usage_mb  \\\n",
       "count          22.000000          22.000000        22.000000   \n",
       "mean         8853.203199           5.337268       430.088246   \n",
       "std         40422.731749           7.027358       339.466861   \n",
       "min             4.889727           0.001995         1.496094   \n",
       "25%            15.210927           0.004409       128.863281   \n",
       "50%            54.085851           2.233626       392.726562   \n",
       "75%           179.286480           6.341376       744.400391   \n",
       "max        189821.106911          21.210513       860.394531   \n",
       "\n",
       "       memory_usage_percent  disk_read_mb  disk_write_mb  network_in_mb  \\\n",
       "count             22.000000          22.0           22.0      22.000000   \n",
       "mean              14.228960           0.0            0.0       0.001877   \n",
       "std                5.215464           0.0            0.0       0.002496   \n",
       "min                0.146103           0.0            0.0       0.000000   \n",
       "25%               12.584305           0.0            0.0       0.000000   \n",
       "50%               14.307165           0.0            0.0       0.001216   \n",
       "75%               18.173838           0.0            0.0       0.002679   \n",
       "max               21.005726           0.0            0.0       0.008762   \n",
       "\n",
       "       network_out_mb    result_rows  result_size_mb  \n",
       "count       22.000000      22.000000       22.000000  \n",
       "mean         0.562511   39031.909091        1.120877  \n",
       "std          1.736492   70825.570142        1.949297  \n",
       "min          0.000000       0.000000        0.000000  \n",
       "25%          0.000000       1.000000        0.000149  \n",
       "50%          0.002244      75.000000        0.005276  \n",
       "75%          0.006711    8760.000000        0.601627  \n",
       "max          6.785174  166536.000000        5.082401  "
      ]
     },
     "execution_count": 5,
     "metadata": {},
     "output_type": "execute_result"
    }
   ],
   "source": [
    "print(\"\\nDescriptive Statistics:\")\n",
    "results_df.describe()"
   ]
  },
  {
   "cell_type": "markdown",
   "id": "f92d9055",
   "metadata": {},
   "source": [
    "# 2. Analyse the results with SQL in duckdb"
   ]
  },
  {
   "cell_type": "code",
   "execution_count": 19,
   "id": "0fbbd8b5",
   "metadata": {},
   "outputs": [
    {
     "data": {
      "text/plain": [
       "┌───────────────────────────────────────────────────────────────────────────────────────────────────────────────────────────────────────────────────────────────────────────────────────────────────────────────────────────────────────────────────────────────────────────────────────────────────────────────────────────────────────────┬─────────────────────────────────────────────────────────────────────────────────────────────────────────────────────────────────────────────────────────────────────────────────────────────────────────────────────────────────────────────────────────────────────────────────────────────────────────────────────────────────────────────────────────────────┬───────────────────┬────────────────────┬────────────────────┬─────────────────┬──────────────────────┬──────────────┬───────────────┬────────────────────┬────────────────────┬─────────────┬────────────────────┬─────────┐\n",
       "│                                                                                                                                                                   query                                                                                                                                                                   │                                                                                                                                                                         original_query                                                                                                                                                                          │   database_type   │ execution_time_ms  │ cpu_usage_percent  │ memory_usage_mb │ memory_usage_percent │ disk_read_mb │ disk_write_mb │   network_in_mb    │   network_out_mb   │ result_rows │   result_size_mb   │ failed  │\n",
       "│                                                                                                                                                                  varchar                                                                                                                                                                  │                                                                                                                                                                             varchar                                                                                                                                                                             │      varchar      │       double       │       double       │     double      │        double        │    double    │    double     │       double       │       double       │    int64    │       double       │ boolean │\n",
       "├───────────────────────────────────────────────────────────────────────────────────────────────────────────────────────────────────────────────────────────────────────────────────────────────────────────────────────────────────────────────────────────────────────────────────────────────────────────────────────────────────────────┼─────────────────────────────────────────────────────────────────────────────────────────────────────────────────────────────────────────────────────────────────────────────────────────────────────────────────────────────────────────────────────────────────────────────────────────────────────────────────────────────────────────────────────────────────┼───────────────────┼────────────────────┼────────────────────┼─────────────────┼──────────────────────┼──────────────┼───────────────┼────────────────────┼────────────────────┼─────────────┼────────────────────┼─────────┤\n",
       "│ /* SELECT Queries */ /* Basic Select with Limit */ SELECT * FROM data LIMIT 100                                                                                                                                                                                                                                                           │ -- SELECT Queries\\n-- Basic Select with Limit\\nSELECT * FROM data LIMIT 100                                                                                                                                                                                                                                                                                     │ DuckDBHandler     │  7.010936737060547 │ 0.0025935162094763 │    128.86328125 │   12.584304809570312 │          0.0 │           0.0 │                0.0 │                0.0 │         100 │ 0.0069923400878906 │ false   │\n",
       "│ /* Basic Count */ SELECT COUNT(*) FROM data                                                                                                                                                                                                                                                                                               │ -- Basic Count\\nSELECT COUNT(*) FROM data                                                                                                                                                                                                                                                                                                                       │ DuckDBHandler     │  4.889726638793945 │ 0.0068827930174563 │    128.86328125 │   12.584304809570312 │          0.0 │           0.0 │                0.0 │                0.0 │           1 │ 0.0001335144042968 │ false   │\n",
       "│ /* Select with Simple Date Range Filter */ SELECT * FROM data WHERE time >= '2023-01-01' AND time < '2024-01-01'                                                                                                                                                                                                                          │ -- Select with Simple Date Range Filter \\nSELECT * FROM data WHERE time >= '2023-01-01' AND time < '2024-01-01'                                                                                                                                                                                                                                                 │ DuckDBHandler     │ 39.199113845825195 │ 0.0054271356783919 │    128.86328125 │   12.584304809570312 │          0.0 │           0.0 │                0.0 │                0.0 │        8760 │ 0.6016273498535156 │ false   │\n",
       "│ /* Select with Multiple Filters (Date Range and Category) */ SELECT * FROM data WHERE time >= '2023-01-01' AND time < '2024-01-01' AND power_output > 0                                                                                                                                                                                   │ -- Select with Multiple Filters (Date Range and Category)\\nSELECT * FROM data WHERE time >= '2023-01-01' AND time < '2024-01-01' AND power_output > 0                                                                                                                                                                                                           │ DuckDBHandler     │  22.34792709350586 │ 0.0027067669172932 │    128.86328125 │   12.584304809570312 │          0.0 │           0.0 │                0.0 │                0.0 │        4097 │ 0.2814445495605469 │ false   │\n",
       "│ /* Select with ORDER BY and Limit */ SELECT * FROM data ORDER BY power_output DESC NULLS FIRST LIMIT 50                                                                                                                                                                                                                                   │ -- Select with ORDER BY and Limit\\nSELECT * FROM data ORDER BY power_output DESC LIMIT 50                                                                                                                                                                                                                                                                       │ DuckDBHandler     │ 12.831926345825195 │ 0.0028035043804755 │    128.86328125 │   12.584304809570312 │          0.0 │           0.0 │                0.0 │                0.0 │          50 │ 0.0035591125488281 │ false   │\n",
       "│ /* Get top 50 rows by power output */ /* AGGREGATE Queries */ /* Basic Aggregates */ SELECT AVG(power_output) AS avg_power_output, MAX(power_output) AS max_power_output, MIN(power_output) AS min_power_output FROM data                                                                                                                 │ -- Get top 50 rows by power output\\n\\n-- AGGREGATE Queries \\n-- Basic Aggregates\\nSELECT AVG(power_output) as avg_power_output, MAX(power_output) as max_power_output, MIN(power_output) as min_power_output FROM data                                                                                                                                          │ DuckDBHandler     │  6.118059158325195 │ 0.0019950124688279 │    128.86328125 │   12.584304809570312 │          0.0 │           0.0 │                0.0 │                0.0 │           1 │ 0.0001487731933593 │ false   │\n",
       "│ /* Aggregates with Date Range Filter (Corrected: use AND, standard date format) */ SELECT AVG(power_output) AS avg_power_output, MAX(power_output) AS max_power_output, MIN(power_output) AS min_power_output FROM data WHERE time >= '2023-01-01' AND time < '2024-01-01'                                                                │ -- Aggregates with Date Range Filter (Corrected: use AND, standard date format)\\nSELECT AVG(power_output) as avg_power_output, MAX(power_output) as max_power_output, MIN(power_output) as min_power_output FROM data WHERE time >= '2023-01-01' AND time < '2024-01-01'                                                                                        │ DuckDBHandler     │  6.344079971313477 │ 0.0095238095238095 │      86.3359375 │    8.431243896484375 │          0.0 │           0.0 │                0.0 │                0.0 │           1 │ 0.0001487731933593 │ false   │\n",
       "│ /* Aggregates Grouped by Year with Ordering */ SELECT EXTRACT(YEAR FROM time) AS year, AVG(power_output) AS avg_power_output, MAX(power_output) AS max_power_output, MIN(power_output) AS min_power_output FROM data WHERE time >= '2023-01-01' AND time < '2024-01-01' GROUP BY EXTRACT(YEAR FROM time) ORDER BY EXTRACT(YEAR FROM time) │ -- Aggregates Grouped by Year with Ordering\\nSELECT\\n    EXTRACT(YEAR FROM time) as year,\\n    AVG(power_output) as avg_power_output,\\n    MAX(power_output) as max_power_output,\\n    MIN(power_output) as min_power_output\\nFROM data\\nWHERE time >= '2023-01-01' AND time < '2024-01-01'\\nGROUP BY EXTRACT(YEAR FROM time)\\nORDER BY EXTRACT(YEAR FROM time) │ DuckDBHandler     │  5.954980850219727 │ 0.0063476070528967 │      86.3359375 │    8.431243896484375 │          0.0 │           0.0 │                0.0 │                0.0 │           1 │ 0.0001564025878906 │ false   │\n",
       "│ /* JOIN Queries */ /* Simple Self-Join to Calculate Power Change */ SELECT t1.time, t1.power_output AS power_output, t2.power_output AS previous_power, t1.power_output - t2.power_output AS power_change FROM data AS t1 JOIN data AS t2 ON t1.time = t2.time                                                                            │ -- JOIN Queries\\n-- Simple Self-Join to Calculate Power Change\\nSELECT\\n    t1.time,     \\n    t1.power_output as power_output,  \\n    t2.power_output as previous_power, \\n    t1.power_output - t2.power_output as power_change\\nFROM data t1\\nJOIN data t2 ON t1.time = t2.time                                                                              │ DuckDBHandler     │  325.3209590911865 │ 0.0050188205771643 │      86.3359375 │    8.431243896484375 │          0.0 │           0.0 │                0.0 │                0.0 │      166536 │  5.082401275634766 │ false   │\n",
       "│ /* WINDOW FUNCTION Queries */ /* Running total */ SELECT time, power_output AS power_output, SUM(power_output) OVER (ORDER BY time) AS running_total FROM data ORDER BY time                                                                                                                                                              │ -- WINDOW FUNCTION Queries\\n-- Running total\\nSELECT\\n    time,\\n    power_output as power_output,\\n    SUM(power_output) OVER (ORDER BY time) as running_total\\nFROM data\\nORDER BY time                                                                                                                                                                       │ DuckDBHandler     │ 319.75412368774414 │ 0.0042052565707133 │      86.3359375 │    8.431243896484375 │          0.0 │           0.0 │                0.0 │                0.0 │      166536 │  3.811832427978515 │ false   │\n",
       "│ /* Power output changes */ SELECT d1.time, d1.power_output, d2.power_output AS previous_power_output, d1.power_output - d2.power_output AS power_change FROM data AS d1 LEFT JOIN data AS d2 ON d2.time = (SELECT MAX(time) FROM data WHERE time < d1.time) ORDER BY d1.time                                                              │ -- Power output changes\\nSELECT\\n    d1.time,\\n    d1.power_output,\\n    d2.power_output AS previous_power_output,\\n    d1.power_output - d2.power_output AS power_change\\nFROM data d1\\nLEFT JOIN data d2 ON d2.time = (SELECT MAX(time) FROM data WHERE time < d1.time)\\nORDER BY d1.time                                                                     │ DuckDBHandler     │ 189821.10691070557 │ 0.0033872976338729 │      1.49609375 │   0.1461029052734375 │          0.0 │           0.0 │                0.0 │                0.0 │      166536 │  5.082401275634766 │ false   │\n",
       "│ /* SELECT Queries */ /* Basic Select with Limit */ SELECT * FROM data LIMIT 100                                                                                                                                                                                                                                                           │ -- SELECT Queries\\n-- Basic Select with Limit\\nSELECT * FROM data LIMIT 100                                                                                                                                                                                                                                                                                     │ ClickHouseHandler │  37.51087188720703 │ 14.476984924623116 │    656.58984375 │   16.030025482177734 │          0.0 │           0.0 │ 0.0025444030761718 │ 0.0089626312255859 │         100 │ 0.0069923400878906 │ false   │\n",
       "│ /* Basic Count */ SELECT COUNT(*) FROM data                                                                                                                                                                                                                                                                                               │ -- Basic Count\\nSELECT COUNT(*) FROM data                                                                                                                                                                                                                                                                                                                       │ ClickHouseHandler │ 124.67598915100098 │  5.526934673366834 │      714.609375 │   17.446517944335938 │          0.0 │           0.0 │ 0.0027017593383789 │  0.004521369934082 │           1 │ 0.0001335144042968 │ false   │\n",
       "│ /* Select with Simple Date Range Filter */ SELECT * FROM data WHERE time >= '2023-01-01' AND time < '2024-01-01'                                                                                                                                                                                                                          │ -- Select with Simple Date Range Filter \\nSELECT * FROM data WHERE time >= '2023-01-01' AND time < '2024-01-01'                                                                                                                                                                                                                                                 │ ClickHouseHandler │ 197.48997688293457 │ 21.156317780580075 │    731.44921875 │   17.857646942138672 │          0.0 │           0.0 │ 0.0032100677490234 │      0.42529296875 │        8760 │ 0.6016273498535156 │ false   │\n",
       "│ /* Select with Multiple Filters (Date Range and Category) */ SELECT * FROM data WHERE time >= '2023-01-01' AND time < '2024-01-01' AND power_output > 0                                                                                                                                                                                   │ -- Select with Multiple Filters (Date Range and Category)\\nSELECT * FROM data WHERE time >= '2023-01-01' AND time < '2024-01-01' AND power_output > 0                                                                                                                                                                                                           │ ClickHouseHandler │  119.9350357055664 │  5.815919395465994 │    729.46484375 │   17.809200286865234 │          0.0 │           0.0 │ 0.0028057098388671 │ 0.2253036499023437 │        4097 │ 0.2814445495605469 │ false   │\n",
       "│ /* Select with ORDER BY and Limit */ SELECT * FROM data ORDER BY power_output DESC NULLS FIRST LIMIT 50                                                                                                                                                                                                                                   │ -- Select with ORDER BY and Limit\\nSELECT * FROM data ORDER BY power_output DESC LIMIT 50                                                                                                                                                                                                                                                                       │ ClickHouseHandler │  62.38508224487305 │ 21.210513141426784 │    747.08203125 │   18.239307403564453 │          0.0 │           0.0 │ 0.0024328231811523 │  0.007430076599121 │          50 │ 0.0035591125488281 │ false   │\n",
       "│ /* Get top 50 rows by power output */ /* AGGREGATE Queries */ /* Basic Aggregates */ SELECT AVG(power_output) AS avg_power_output, MAX(power_output) AS max_power_output, MIN(power_output) AS min_power_output FROM data                                                                                                                 │ -- Get top 50 rows by power output\\n\\n-- AGGREGATE Queries \\n-- Basic Aggregates\\nSELECT AVG(power_output) as avg_power_output, MAX(power_output) as max_power_output, MIN(power_output) as min_power_output FROM data                                                                                                                                          │ ClickHouseHandler │ 46.486616134643555 │  5.515382685069009 │    736.35546875 │   17.977428436279297 │          0.0 │           0.0 │ 0.0025501251220703 │ 0.0045375823974609 │           1 │ 0.0001487731933593 │ false   │\n",
       "│ /* Aggregates with Date Range Filter (Corrected: use AND, standard date format) */ SELECT AVG(power_output) AS avg_power_output, MAX(power_output) AS max_power_output, MIN(power_output) AS min_power_output FROM data WHERE time >= '2023-01-01' AND time < '2024-01-01'                                                                │ -- Aggregates with Date Range Filter (Corrected: use AND, standard date format)\\nSELECT AVG(power_output) as avg_power_output, MAX(power_output) as max_power_output, MIN(power_output) as min_power_output FROM data WHERE time >= '2023-01-01' AND time < '2024-01-01'                                                                                        │ ClickHouseHandler │  41.76902770996094 │ 13.697443609022557 │       759.09375 │   18.532562255859375 │          0.0 │           0.0 │ 0.0026006698608398 │ 0.0045385360717773 │           1 │ 0.0001487731933593 │ false   │\n",
       "│ /* Aggregates Grouped by Year with Ordering */ SELECT EXTRACT(YEAR FROM time) AS year, AVG(power_output) AS avg_power_output, MAX(power_output) AS max_power_output, MIN(power_output) AS min_power_output FROM data WHERE time >= '2023-01-01' AND time < '2024-01-01' GROUP BY EXTRACT(YEAR FROM time) ORDER BY EXTRACT(YEAR FROM time) │ -- Aggregates Grouped by Year with Ordering\\nSELECT\\n    EXTRACT(YEAR FROM time) as year,\\n    AVG(power_output) as avg_power_output,\\n    MAX(power_output) as max_power_output,\\n    MIN(power_output) as min_power_output\\nFROM data\\nWHERE time >= '2023-01-01' AND time < '2024-01-01'\\nGROUP BY EXTRACT(YEAR FROM time)\\nORDER BY EXTRACT(YEAR FROM time) │ ClickHouseHandler │  61.68508529663086 │ 13.469017632241814 │    759.09765625 │   18.532657623291016 │          0.0 │           0.0 │ 0.0030536651611328 │ 0.0045537948608398 │           1 │ 0.0001564025878906 │ false   │\n",
       "│ /* JOIN Queries */ /* Simple Self-Join to Calculate Power Change */ SELECT t1.time, t1.power_output AS power_output, t2.power_output AS previous_power, t1.power_output - t2.power_output AS power_change FROM data AS t1 JOIN data AS t2 ON t1.time = t2.time                                                                            │ -- JOIN Queries\\n-- Simple Self-Join to Calculate Power Change\\nSELECT\\n    t1.time,     \\n    t1.power_output as power_output,  \\n    t2.power_output as previous_power, \\n    t1.power_output - t2.power_output as power_change\\nFROM data t1\\nJOIN data t2 ON t1.time = t2.time                                                                              │ ClickHouseHandler │ 1755.6979656219482 │   4.45772784019975 │    860.39453125 │   21.005725860595703 │          0.0 │           0.0 │ 0.0080165863037109 │  4.900433540344238 │      166536 │  5.082401275634766 │ false   │\n",
       "│ /* WINDOW FUNCTION Queries */ /* Running total */ SELECT time, power_output AS power_output, SUM(power_output) OVER (ORDER BY time) AS running_total FROM data ORDER BY time                                                                                                                                                              │ -- WINDOW FUNCTION Queries\\n-- Running total\\nSELECT\\n    time,\\n    power_output as power_output,\\n    SUM(power_output) OVER (ORDER BY time) as running_total\\nFROM data\\nORDER BY time                                                                                                                                                                       │ ClickHouseHandler │  1689.136028289795 │  5.526231155778894 │    809.46484375 │    19.76232528686523 │          0.0 │           0.0 │ 0.0087623596191406 │  6.785174369812012 │      166536 │  3.811832427978515 │ false   │\n",
       "│ /* Power output changes */ SELECT d1.time, d1.power_output, d2.power_output AS previous_power_output, d1.power_output - d2.power_output AS power_change FROM data AS d1 LEFT JOIN data AS d2 ON d2.time = (SELECT MAX(time) FROM data WHERE time < d1.time) ORDER BY d1.time                                                              │ -- Power output changes\\nSELECT\\n    d1.time,\\n    d1.power_output,\\n    d2.power_output AS previous_power_output,\\n    d1.power_output - d2.power_output AS power_change\\nFROM data d1\\nLEFT JOIN data d2 ON d2.time = (SELECT MAX(time) FROM data WHERE time < d1.time)\\nORDER BY d1.time                                                                     │ ClickHouseHandler │   62.8199577331543 │  6.516528301886792 │     838.3203125 │    20.46680450439453 │          0.0 │           0.0 │ 0.0026121139526367 │ 0.0044879913330078 │           0 │                0.0 │ true    │\n",
       "├───────────────────────────────────────────────────────────────────────────────────────────────────────────────────────────────────────────────────────────────────────────────────────────────────────────────────────────────────────────────────────────────────────────────────────────────────────────────────────────────────────────┴─────────────────────────────────────────────────────────────────────────────────────────────────────────────────────────────────────────────────────────────────────────────────────────────────────────────────────────────────────────────────────────────────────────────────────────────────────────────────────────────────────────────────────────────────┴───────────────────┴────────────────────┴────────────────────┴─────────────────┴──────────────────────┴──────────────┴───────────────┴────────────────────┴────────────────────┴─────────────┴────────────────────┴─────────┤\n",
       "│ 22 rows                                                                                                                                                                                                                                                                                                                                                                                                                                                                                                                                                                                                                                                                                                                                                                                                                                                                                                                       14 columns │\n",
       "└──────────────────────────────────────────────────────────────────────────────────────────────────────────────────────────────────────────────────────────────────────────────────────────────────────────────────────────────────────────────────────────────────────────────────────────────────────────────────────────────────────────────────────────────────────────────────────────────────────────────────────────────────────────────────────────────────────────────────────────────────────────────────────────────────────────────────────────────────────────────────────────────────────────────────────────────────────────────────────────────────────────────────────────────────────────────────────────────────────────────────────────────────────────────────────────────────────────────────────────────────────────────────────────────────────────────────────────────────────────────────────────────────────────┘"
      ]
     },
     "execution_count": 19,
     "metadata": {},
     "output_type": "execute_result"
    }
   ],
   "source": [
    "results_db = duckdb.sql(\"SELECT * FROM results_df\")\n",
    "results_db"
   ]
  },
  {
   "cell_type": "code",
   "execution_count": 7,
   "id": "a71895fd",
   "metadata": {},
   "outputs": [
    {
     "data": {
      "text/plain": [
       "Index(['query', 'original_query', 'database_type', 'execution_time_ms',\n",
       "       'cpu_usage_percent', 'memory_usage_mb', 'memory_usage_percent',\n",
       "       'disk_read_mb', 'disk_write_mb', 'network_in_mb', 'network_out_mb',\n",
       "       'result_rows', 'result_size_mb', 'failed'],\n",
       "      dtype='object')"
      ]
     },
     "execution_count": 7,
     "metadata": {},
     "output_type": "execute_result"
    }
   ],
   "source": [
    "results_df.columns "
   ]
  },
  {
   "cell_type": "markdown",
   "id": "700dc74f",
   "metadata": {},
   "source": [
    "## Overall Performance Analysis (Execution Time)"
   ]
  },
  {
   "cell_type": "code",
   "execution_count": 50,
   "id": "f5bd1ecf",
   "metadata": {},
   "outputs": [
    {
     "data": {
      "text/plain": [
       "┌───────────────────┬───────────────────────┬──────────────────────────┬───────────────────────┬───────────────────────┐\n",
       "│   database_type   │ avg_execution_time_ms │ median_execution_time_ms │ min_execution_time_ms │ max_execution_time_ms │\n",
       "│      varchar      │        double         │          double          │        double         │        double         │\n",
       "├───────────────────┼───────────────────────┼──────────────────────────┼───────────────────────┼───────────────────────┤\n",
       "│ ClickHouseHandler │                381.78 │                    62.82 │                 37.51 │                1755.7 │\n",
       "│ DuckDBHandler     │              17324.63 │                    12.83 │                  4.89 │             189821.11 │\n",
       "└───────────────────┴───────────────────────┴──────────────────────────┴───────────────────────┴───────────────────────┘"
      ]
     },
     "execution_count": 50,
     "metadata": {},
     "output_type": "execute_result"
    }
   ],
   "source": [
    "# get average execution time\n",
    "avg_execution_time = duckdb.sql(\n",
    "    \"\"\"SELECT \n",
    "    database_type,\n",
    "    ROUND(AVG(execution_time_ms), 2) as avg_execution_time_ms,\n",
    "    ROUND(MEDIAN(execution_time_ms), 2) as median_execution_time_ms,\n",
    "    ROUND(MIN(execution_time_ms), 2) as min_execution_time_ms, \n",
    "    ROUND(MAX(execution_time_ms), 2) as max_execution_time_ms,\n",
    "    FROM results_df\n",
    "    GROUP BY database_type\n",
    "    ORDER BY avg_execution_time_ms\n",
    "    \"\"\"\n",
    "    )\n",
    "avg_execution_time"
   ]
  },
  {
   "cell_type": "code",
   "execution_count": 51,
   "id": "260e19dc",
   "metadata": {},
   "outputs": [],
   "source": [
    "# define dark theme\n",
    "template = 'plotly_dark'"
   ]
  },
  {
   "cell_type": "code",
   "execution_count": null,
   "id": "b0b6a551",
   "metadata": {},
   "outputs": [],
   "source": [
    "\"\"\"\n",
    "# grouped median/avg execution time per database\n",
    "databases = results_df['database_type'].unique().tolist()\n",
    "\n",
    "avg_median_perf = go.Figure(\n",
    "    data=[\n",
    "    go.Bar(name='Average', x=databases, y=avg_execution_time['avg_execution_time_ms']),\n",
    "    go.Bar(name='Median', x=databases, y=avg_execution_time['median_execution_time_ms'])\n",
    "])\n",
    "avg_median_perf.update_layout(\n",
    "    barmode='group', \n",
    "    template=template, \n",
    "    title='Average vs Median Execution Time by Database Type')\n",
    "avg_median_perf.show()\n",
    "\"\"\""
   ]
  },
  {
   "cell_type": "code",
   "execution_count": null,
   "id": "b7f19335",
   "metadata": {},
   "outputs": [
    {
     "data": {
      "application/vnd.plotly.v1+json": {
       "config": {
        "plotlyServerURL": "https://plot.ly"
       },
       "data": [
        {
         "hovertemplate": "database_type=%{x}<br>avg_execution_time_ms=%{y}<extra></extra>",
         "legendgroup": "",
         "marker": {
          "color": "#636efa",
          "pattern": {
           "shape": ""
          }
         },
         "name": "",
         "orientation": "v",
         "showlegend": false,
         "textposition": "auto",
         "type": "bar",
         "x": [
          "ClickHouseHandler",
          "DuckDBHandler"
         ],
         "xaxis": "x",
         "y": {
          "bdata": "FK5H4Xrcd0AfhetRKOvQQA==",
          "dtype": "f8"
         },
         "yaxis": "y"
        }
       ],
       "layout": {
        "barmode": "relative",
        "legend": {
         "tracegroupgap": 0
        },
        "template": {
         "data": {
          "bar": [
           {
            "error_x": {
             "color": "#f2f5fa"
            },
            "error_y": {
             "color": "#f2f5fa"
            },
            "marker": {
             "line": {
              "color": "rgb(17,17,17)",
              "width": 0.5
             },
             "pattern": {
              "fillmode": "overlay",
              "size": 10,
              "solidity": 0.2
             }
            },
            "type": "bar"
           }
          ],
          "barpolar": [
           {
            "marker": {
             "line": {
              "color": "rgb(17,17,17)",
              "width": 0.5
             },
             "pattern": {
              "fillmode": "overlay",
              "size": 10,
              "solidity": 0.2
             }
            },
            "type": "barpolar"
           }
          ],
          "carpet": [
           {
            "aaxis": {
             "endlinecolor": "#A2B1C6",
             "gridcolor": "#506784",
             "linecolor": "#506784",
             "minorgridcolor": "#506784",
             "startlinecolor": "#A2B1C6"
            },
            "baxis": {
             "endlinecolor": "#A2B1C6",
             "gridcolor": "#506784",
             "linecolor": "#506784",
             "minorgridcolor": "#506784",
             "startlinecolor": "#A2B1C6"
            },
            "type": "carpet"
           }
          ],
          "choropleth": [
           {
            "colorbar": {
             "outlinewidth": 0,
             "ticks": ""
            },
            "type": "choropleth"
           }
          ],
          "contour": [
           {
            "colorbar": {
             "outlinewidth": 0,
             "ticks": ""
            },
            "colorscale": [
             [
              0,
              "#0d0887"
             ],
             [
              0.1111111111111111,
              "#46039f"
             ],
             [
              0.2222222222222222,
              "#7201a8"
             ],
             [
              0.3333333333333333,
              "#9c179e"
             ],
             [
              0.4444444444444444,
              "#bd3786"
             ],
             [
              0.5555555555555556,
              "#d8576b"
             ],
             [
              0.6666666666666666,
              "#ed7953"
             ],
             [
              0.7777777777777778,
              "#fb9f3a"
             ],
             [
              0.8888888888888888,
              "#fdca26"
             ],
             [
              1,
              "#f0f921"
             ]
            ],
            "type": "contour"
           }
          ],
          "contourcarpet": [
           {
            "colorbar": {
             "outlinewidth": 0,
             "ticks": ""
            },
            "type": "contourcarpet"
           }
          ],
          "heatmap": [
           {
            "colorbar": {
             "outlinewidth": 0,
             "ticks": ""
            },
            "colorscale": [
             [
              0,
              "#0d0887"
             ],
             [
              0.1111111111111111,
              "#46039f"
             ],
             [
              0.2222222222222222,
              "#7201a8"
             ],
             [
              0.3333333333333333,
              "#9c179e"
             ],
             [
              0.4444444444444444,
              "#bd3786"
             ],
             [
              0.5555555555555556,
              "#d8576b"
             ],
             [
              0.6666666666666666,
              "#ed7953"
             ],
             [
              0.7777777777777778,
              "#fb9f3a"
             ],
             [
              0.8888888888888888,
              "#fdca26"
             ],
             [
              1,
              "#f0f921"
             ]
            ],
            "type": "heatmap"
           }
          ],
          "histogram": [
           {
            "marker": {
             "pattern": {
              "fillmode": "overlay",
              "size": 10,
              "solidity": 0.2
             }
            },
            "type": "histogram"
           }
          ],
          "histogram2d": [
           {
            "colorbar": {
             "outlinewidth": 0,
             "ticks": ""
            },
            "colorscale": [
             [
              0,
              "#0d0887"
             ],
             [
              0.1111111111111111,
              "#46039f"
             ],
             [
              0.2222222222222222,
              "#7201a8"
             ],
             [
              0.3333333333333333,
              "#9c179e"
             ],
             [
              0.4444444444444444,
              "#bd3786"
             ],
             [
              0.5555555555555556,
              "#d8576b"
             ],
             [
              0.6666666666666666,
              "#ed7953"
             ],
             [
              0.7777777777777778,
              "#fb9f3a"
             ],
             [
              0.8888888888888888,
              "#fdca26"
             ],
             [
              1,
              "#f0f921"
             ]
            ],
            "type": "histogram2d"
           }
          ],
          "histogram2dcontour": [
           {
            "colorbar": {
             "outlinewidth": 0,
             "ticks": ""
            },
            "colorscale": [
             [
              0,
              "#0d0887"
             ],
             [
              0.1111111111111111,
              "#46039f"
             ],
             [
              0.2222222222222222,
              "#7201a8"
             ],
             [
              0.3333333333333333,
              "#9c179e"
             ],
             [
              0.4444444444444444,
              "#bd3786"
             ],
             [
              0.5555555555555556,
              "#d8576b"
             ],
             [
              0.6666666666666666,
              "#ed7953"
             ],
             [
              0.7777777777777778,
              "#fb9f3a"
             ],
             [
              0.8888888888888888,
              "#fdca26"
             ],
             [
              1,
              "#f0f921"
             ]
            ],
            "type": "histogram2dcontour"
           }
          ],
          "mesh3d": [
           {
            "colorbar": {
             "outlinewidth": 0,
             "ticks": ""
            },
            "type": "mesh3d"
           }
          ],
          "parcoords": [
           {
            "line": {
             "colorbar": {
              "outlinewidth": 0,
              "ticks": ""
             }
            },
            "type": "parcoords"
           }
          ],
          "pie": [
           {
            "automargin": true,
            "type": "pie"
           }
          ],
          "scatter": [
           {
            "marker": {
             "line": {
              "color": "#283442"
             }
            },
            "type": "scatter"
           }
          ],
          "scatter3d": [
           {
            "line": {
             "colorbar": {
              "outlinewidth": 0,
              "ticks": ""
             }
            },
            "marker": {
             "colorbar": {
              "outlinewidth": 0,
              "ticks": ""
             }
            },
            "type": "scatter3d"
           }
          ],
          "scattercarpet": [
           {
            "marker": {
             "colorbar": {
              "outlinewidth": 0,
              "ticks": ""
             }
            },
            "type": "scattercarpet"
           }
          ],
          "scattergeo": [
           {
            "marker": {
             "colorbar": {
              "outlinewidth": 0,
              "ticks": ""
             }
            },
            "type": "scattergeo"
           }
          ],
          "scattergl": [
           {
            "marker": {
             "line": {
              "color": "#283442"
             }
            },
            "type": "scattergl"
           }
          ],
          "scattermap": [
           {
            "marker": {
             "colorbar": {
              "outlinewidth": 0,
              "ticks": ""
             }
            },
            "type": "scattermap"
           }
          ],
          "scattermapbox": [
           {
            "marker": {
             "colorbar": {
              "outlinewidth": 0,
              "ticks": ""
             }
            },
            "type": "scattermapbox"
           }
          ],
          "scatterpolar": [
           {
            "marker": {
             "colorbar": {
              "outlinewidth": 0,
              "ticks": ""
             }
            },
            "type": "scatterpolar"
           }
          ],
          "scatterpolargl": [
           {
            "marker": {
             "colorbar": {
              "outlinewidth": 0,
              "ticks": ""
             }
            },
            "type": "scatterpolargl"
           }
          ],
          "scatterternary": [
           {
            "marker": {
             "colorbar": {
              "outlinewidth": 0,
              "ticks": ""
             }
            },
            "type": "scatterternary"
           }
          ],
          "surface": [
           {
            "colorbar": {
             "outlinewidth": 0,
             "ticks": ""
            },
            "colorscale": [
             [
              0,
              "#0d0887"
             ],
             [
              0.1111111111111111,
              "#46039f"
             ],
             [
              0.2222222222222222,
              "#7201a8"
             ],
             [
              0.3333333333333333,
              "#9c179e"
             ],
             [
              0.4444444444444444,
              "#bd3786"
             ],
             [
              0.5555555555555556,
              "#d8576b"
             ],
             [
              0.6666666666666666,
              "#ed7953"
             ],
             [
              0.7777777777777778,
              "#fb9f3a"
             ],
             [
              0.8888888888888888,
              "#fdca26"
             ],
             [
              1,
              "#f0f921"
             ]
            ],
            "type": "surface"
           }
          ],
          "table": [
           {
            "cells": {
             "fill": {
              "color": "#506784"
             },
             "line": {
              "color": "rgb(17,17,17)"
             }
            },
            "header": {
             "fill": {
              "color": "#2a3f5f"
             },
             "line": {
              "color": "rgb(17,17,17)"
             }
            },
            "type": "table"
           }
          ]
         },
         "layout": {
          "annotationdefaults": {
           "arrowcolor": "#f2f5fa",
           "arrowhead": 0,
           "arrowwidth": 1
          },
          "autotypenumbers": "strict",
          "coloraxis": {
           "colorbar": {
            "outlinewidth": 0,
            "ticks": ""
           }
          },
          "colorscale": {
           "diverging": [
            [
             0,
             "#8e0152"
            ],
            [
             0.1,
             "#c51b7d"
            ],
            [
             0.2,
             "#de77ae"
            ],
            [
             0.3,
             "#f1b6da"
            ],
            [
             0.4,
             "#fde0ef"
            ],
            [
             0.5,
             "#f7f7f7"
            ],
            [
             0.6,
             "#e6f5d0"
            ],
            [
             0.7,
             "#b8e186"
            ],
            [
             0.8,
             "#7fbc41"
            ],
            [
             0.9,
             "#4d9221"
            ],
            [
             1,
             "#276419"
            ]
           ],
           "sequential": [
            [
             0,
             "#0d0887"
            ],
            [
             0.1111111111111111,
             "#46039f"
            ],
            [
             0.2222222222222222,
             "#7201a8"
            ],
            [
             0.3333333333333333,
             "#9c179e"
            ],
            [
             0.4444444444444444,
             "#bd3786"
            ],
            [
             0.5555555555555556,
             "#d8576b"
            ],
            [
             0.6666666666666666,
             "#ed7953"
            ],
            [
             0.7777777777777778,
             "#fb9f3a"
            ],
            [
             0.8888888888888888,
             "#fdca26"
            ],
            [
             1,
             "#f0f921"
            ]
           ],
           "sequentialminus": [
            [
             0,
             "#0d0887"
            ],
            [
             0.1111111111111111,
             "#46039f"
            ],
            [
             0.2222222222222222,
             "#7201a8"
            ],
            [
             0.3333333333333333,
             "#9c179e"
            ],
            [
             0.4444444444444444,
             "#bd3786"
            ],
            [
             0.5555555555555556,
             "#d8576b"
            ],
            [
             0.6666666666666666,
             "#ed7953"
            ],
            [
             0.7777777777777778,
             "#fb9f3a"
            ],
            [
             0.8888888888888888,
             "#fdca26"
            ],
            [
             1,
             "#f0f921"
            ]
           ]
          },
          "colorway": [
           "#636efa",
           "#EF553B",
           "#00cc96",
           "#ab63fa",
           "#FFA15A",
           "#19d3f3",
           "#FF6692",
           "#B6E880",
           "#FF97FF",
           "#FECB52"
          ],
          "font": {
           "color": "#f2f5fa"
          },
          "geo": {
           "bgcolor": "rgb(17,17,17)",
           "lakecolor": "rgb(17,17,17)",
           "landcolor": "rgb(17,17,17)",
           "showlakes": true,
           "showland": true,
           "subunitcolor": "#506784"
          },
          "hoverlabel": {
           "align": "left"
          },
          "hovermode": "closest",
          "mapbox": {
           "style": "dark"
          },
          "paper_bgcolor": "rgb(17,17,17)",
          "plot_bgcolor": "rgb(17,17,17)",
          "polar": {
           "angularaxis": {
            "gridcolor": "#506784",
            "linecolor": "#506784",
            "ticks": ""
           },
           "bgcolor": "rgb(17,17,17)",
           "radialaxis": {
            "gridcolor": "#506784",
            "linecolor": "#506784",
            "ticks": ""
           }
          },
          "scene": {
           "xaxis": {
            "backgroundcolor": "rgb(17,17,17)",
            "gridcolor": "#506784",
            "gridwidth": 2,
            "linecolor": "#506784",
            "showbackground": true,
            "ticks": "",
            "zerolinecolor": "#C8D4E3"
           },
           "yaxis": {
            "backgroundcolor": "rgb(17,17,17)",
            "gridcolor": "#506784",
            "gridwidth": 2,
            "linecolor": "#506784",
            "showbackground": true,
            "ticks": "",
            "zerolinecolor": "#C8D4E3"
           },
           "zaxis": {
            "backgroundcolor": "rgb(17,17,17)",
            "gridcolor": "#506784",
            "gridwidth": 2,
            "linecolor": "#506784",
            "showbackground": true,
            "ticks": "",
            "zerolinecolor": "#C8D4E3"
           }
          },
          "shapedefaults": {
           "line": {
            "color": "#f2f5fa"
           }
          },
          "sliderdefaults": {
           "bgcolor": "#C8D4E3",
           "bordercolor": "rgb(17,17,17)",
           "borderwidth": 1,
           "tickwidth": 0
          },
          "ternary": {
           "aaxis": {
            "gridcolor": "#506784",
            "linecolor": "#506784",
            "ticks": ""
           },
           "baxis": {
            "gridcolor": "#506784",
            "linecolor": "#506784",
            "ticks": ""
           },
           "bgcolor": "rgb(17,17,17)",
           "caxis": {
            "gridcolor": "#506784",
            "linecolor": "#506784",
            "ticks": ""
           }
          },
          "title": {
           "x": 0.05
          },
          "updatemenudefaults": {
           "bgcolor": "#506784",
           "borderwidth": 0
          },
          "xaxis": {
           "automargin": true,
           "gridcolor": "#283442",
           "linecolor": "#506784",
           "ticks": "",
           "title": {
            "standoff": 15
           },
           "zerolinecolor": "#283442",
           "zerolinewidth": 2
          },
          "yaxis": {
           "automargin": true,
           "gridcolor": "#283442",
           "linecolor": "#506784",
           "ticks": "",
           "title": {
            "standoff": 15
           },
           "zerolinecolor": "#283442",
           "zerolinewidth": 2
          }
         }
        },
        "title": {
         "text": "Average Execution Time by Database Type"
        },
        "width": 800,
        "xaxis": {
         "anchor": "y",
         "domain": [
          0,
          1
         ],
         "title": {
          "text": "database_type"
         }
        },
        "yaxis": {
         "anchor": "x",
         "domain": [
          0,
          1
         ],
         "title": {
          "text": "avg_execution_time_ms"
         }
        }
       }
      }
     },
     "metadata": {},
     "output_type": "display_data"
    }
   ],
   "source": [
    "\n",
    "avg_execution_time_plot = px.bar(\n",
    "    avg_execution_time, \n",
    "    x='database_type', \n",
    "    y='avg_execution_time_ms',\n",
    "    title='Average Execution Time by Database Type',\n",
    "    template=template,\n",
    "    #barmode='group',\n",
    "    width=800\n",
    ")\n",
    "avg_execution_time_plot.show()"
   ]
  },
  {
   "cell_type": "markdown",
   "id": "1e540ce7",
   "metadata": {},
   "source": [
    "## Query execution time analysis"
   ]
  }
 ],
 "metadata": {
  "kernelspec": {
   "display_name": ".venv",
   "language": "python",
   "name": "python3"
  },
  "language_info": {
   "codemirror_mode": {
    "name": "ipython",
    "version": 3
   },
   "file_extension": ".py",
   "mimetype": "text/x-python",
   "name": "python",
   "nbconvert_exporter": "python",
   "pygments_lexer": "ipython3",
   "version": "3.13.3"
  }
 },
 "nbformat": 4,
 "nbformat_minor": 5
}
